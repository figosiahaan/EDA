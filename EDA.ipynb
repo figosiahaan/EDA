{
 "cells": [
  {
   "cell_type": "markdown",
   "metadata": {
    "id": "qzMf_GAEajv2"
   },
   "source": [
    "# Exploratory Data Analysis\n",
    "\n"
   ]
  },
  {
   "cell_type": "code",
   "execution_count": 5,
   "metadata": {
    "id": "UGgRM8wLajv5"
   },
   "outputs": [],
   "source": [
    "import pandas as pd\n",
    "import matplotlib.pyplot as plt\n",
    "import numpy as np\n",
    "import seaborn as sns"
   ]
  },
  {
   "cell_type": "code",
   "execution_count": 7,
   "metadata": {
    "id": "IJJDCSVBajv6"
   },
   "outputs": [],
   "source": [
    "loan_df = pd.read_csv('vehicle_loans_clean.csv', index_col='UNIQUEID')"
   ]
  },
  {
   "cell_type": "code",
   "execution_count": 8,
   "metadata": {
    "id": "BsgzPJboajv6"
   },
   "outputs": [
    {
     "name": "stdout",
     "output_type": "stream",
     "text": [
      "<class 'pandas.core.frame.DataFrame'>\n",
      "Int64Index: 233154 entries, 420825 to 630213\n",
      "Data columns (total 40 columns):\n",
      " #   Column                               Non-Null Count   Dtype  \n",
      "---  ------                               --------------   -----  \n",
      " 0   DISBURSED_AMOUNT                     233154 non-null  int64  \n",
      " 1   ASSET_COST                           233154 non-null  int64  \n",
      " 2   LTV                                  233154 non-null  float64\n",
      " 3   BRANCH_ID                            233154 non-null  int64  \n",
      " 4   SUPPLIER_ID                          233154 non-null  int64  \n",
      " 5   MANUFACTURER_ID                      233154 non-null  int64  \n",
      " 6   CURRENT_PINCODE_ID                   233154 non-null  int64  \n",
      " 7   EMPLOYMENT_TYPE                      233154 non-null  object \n",
      " 8   STATE_ID                             233154 non-null  int64  \n",
      " 9   EMPLOYEE_CODE_ID                     233154 non-null  int64  \n",
      " 10  MOBILENO_AVL_FLAG                    233154 non-null  int64  \n",
      " 11  AADHAR_FLAG                          233154 non-null  int64  \n",
      " 12  PAN_FLAG                             233154 non-null  int64  \n",
      " 13  VOTERID_FLAG                         233154 non-null  int64  \n",
      " 14  DRIVING_FLAG                         233154 non-null  int64  \n",
      " 15  PASSPORT_FLAG                        233154 non-null  int64  \n",
      " 16  PERFORM_CNS_SCORE                    233154 non-null  int64  \n",
      " 17  PERFORM_CNS_SCORE_DESCRIPTION        233154 non-null  object \n",
      " 18  PRI_NO_OF_ACCTS                      233154 non-null  int64  \n",
      " 19  PRI_ACTIVE_ACCTS                     233154 non-null  int64  \n",
      " 20  PRI_OVERDUE_ACCTS                    233154 non-null  int64  \n",
      " 21  PRI_CURRENT_BALANCE                  233154 non-null  int64  \n",
      " 22  PRI_SANCTIONED_AMOUNT                233154 non-null  int64  \n",
      " 23  PRI_DISBURSED_AMOUNT                 233154 non-null  int64  \n",
      " 24  SEC_NO_OF_ACCTS                      233154 non-null  int64  \n",
      " 25  SEC_ACTIVE_ACCTS                     233154 non-null  int64  \n",
      " 26  SEC_OVERDUE_ACCTS                    233154 non-null  int64  \n",
      " 27  SEC_CURRENT_BALANCE                  233154 non-null  int64  \n",
      " 28  SEC_SANCTIONED_AMOUNT                233154 non-null  int64  \n",
      " 29  SEC_DISBURSED_AMOUNT                 233154 non-null  int64  \n",
      " 30  PRIMARY_INSTAL_AMT                   233154 non-null  int64  \n",
      " 31  SEC_INSTAL_AMT                       233154 non-null  int64  \n",
      " 32  NEW_ACCTS_IN_LAST_SIX_MONTHS         233154 non-null  int64  \n",
      " 33  DELINQUENT_ACCTS_IN_LAST_SIX_MONTHS  233154 non-null  int64  \n",
      " 34  NO_OF_INQUIRIES                      233154 non-null  int64  \n",
      " 35  LOAN_DEFAULT                         233154 non-null  int64  \n",
      " 36  AGE                                  233154 non-null  int64  \n",
      " 37  DISBURSAL_MONTH                      233154 non-null  int64  \n",
      " 38  AVERAGE_ACCT_AGE_MONTHS              233154 non-null  int64  \n",
      " 39  CREDIT_HISTORY_LENGTH_MONTHS         233154 non-null  int64  \n",
      "dtypes: float64(1), int64(37), object(2)\n",
      "memory usage: 72.9+ MB\n"
     ]
    }
   ],
   "source": [
    "loan_df.info()"
   ]
  },
  {
   "cell_type": "code",
   "execution_count": 9,
   "metadata": {
    "id": "VIBbE-f8ajv8"
   },
   "outputs": [
    {
     "data": {
      "text/plain": [
       "DISBURSED_AMOUNT                       24565\n",
       "ASSET_COST                             46252\n",
       "LTV                                     6579\n",
       "BRANCH_ID                                 82\n",
       "SUPPLIER_ID                             2953\n",
       "MANUFACTURER_ID                           11\n",
       "CURRENT_PINCODE_ID                      6698\n",
       "EMPLOYMENT_TYPE                            3\n",
       "STATE_ID                                  22\n",
       "EMPLOYEE_CODE_ID                        3270\n",
       "MOBILENO_AVL_FLAG                          1\n",
       "AADHAR_FLAG                                2\n",
       "PAN_FLAG                                   2\n",
       "VOTERID_FLAG                               2\n",
       "DRIVING_FLAG                               2\n",
       "PASSPORT_FLAG                              2\n",
       "PERFORM_CNS_SCORE                        573\n",
       "PERFORM_CNS_SCORE_DESCRIPTION             20\n",
       "PRI_NO_OF_ACCTS                          108\n",
       "PRI_ACTIVE_ACCTS                          40\n",
       "PRI_OVERDUE_ACCTS                         22\n",
       "PRI_CURRENT_BALANCE                    71341\n",
       "PRI_SANCTIONED_AMOUNT                  44390\n",
       "PRI_DISBURSED_AMOUNT                   47909\n",
       "SEC_NO_OF_ACCTS                           37\n",
       "SEC_ACTIVE_ACCTS                          23\n",
       "SEC_OVERDUE_ACCTS                          9\n",
       "SEC_CURRENT_BALANCE                     3246\n",
       "SEC_SANCTIONED_AMOUNT                   2223\n",
       "SEC_DISBURSED_AMOUNT                    2553\n",
       "PRIMARY_INSTAL_AMT                     28067\n",
       "SEC_INSTAL_AMT                          1918\n",
       "NEW_ACCTS_IN_LAST_SIX_MONTHS              26\n",
       "DELINQUENT_ACCTS_IN_LAST_SIX_MONTHS       14\n",
       "NO_OF_INQUIRIES                           25\n",
       "LOAN_DEFAULT                               2\n",
       "AGE                                       49\n",
       "DISBURSAL_MONTH                           12\n",
       "AVERAGE_ACCT_AGE_MONTHS                  192\n",
       "CREDIT_HISTORY_LENGTH_MONTHS             294\n",
       "dtype: int64"
      ]
     },
     "execution_count": 9,
     "metadata": {},
     "output_type": "execute_result"
    }
   ],
   "source": [
    "loan_df.nunique()"
   ]
  },
  {
   "cell_type": "markdown",
   "metadata": {
    "id": "PuvRC9EJajv8"
   },
   "source": [
    "- MOBILE_AVL_FLAG has only one unique value."
   ]
  },
  {
   "cell_type": "code",
   "execution_count": 10,
   "metadata": {
    "id": "5F1eUSHsajv9"
   },
   "outputs": [
    {
     "data": {
      "text/plain": [
       "1    233154\n",
       "Name: MOBILENO_AVL_FLAG, dtype: int64"
      ]
     },
     "execution_count": 10,
     "metadata": {},
     "output_type": "execute_result"
    }
   ],
   "source": [
    "loan_df['MOBILENO_AVL_FLAG'].value_counts()"
   ]
  },
  {
   "cell_type": "code",
   "execution_count": 11,
   "metadata": {
    "id": "L63hkbyaajv9"
   },
   "outputs": [],
   "source": [
    "loan_df = loan_df.drop(['MOBILENO_AVL_FLAG'], axis = 1)"
   ]
  },
  {
   "cell_type": "markdown",
   "metadata": {
    "id": "1xTaxgCSajv9"
   },
   "source": [
    "- BRANCH_ID: Branch where the loan was disbursed\n",
    "- SUPPLIER_ID: Vehicle Dealer where the loan was disbursed \n",
    "- MANUFACTURER_ID: Vehicle manufacturer(Hero, Honda, TVS etc.)\n",
    "- CURRENT_PINCODE_ID: Current pincode of the customer\n",
    "- STATE_ID: State of disbursement\n",
    "- EMPLOYEE_CODE_ID: Employee of the organization who logged the disbursement"
   ]
  },
  {
   "cell_type": "code",
   "execution_count": 12,
   "metadata": {
    "id": "dn9BAdJ-ajv-"
   },
   "outputs": [
    {
     "data": {
      "text/html": [
       "<div>\n",
       "<style scoped>\n",
       "    .dataframe tbody tr th:only-of-type {\n",
       "        vertical-align: middle;\n",
       "    }\n",
       "\n",
       "    .dataframe tbody tr th {\n",
       "        vertical-align: top;\n",
       "    }\n",
       "\n",
       "    .dataframe thead th {\n",
       "        text-align: right;\n",
       "    }\n",
       "</style>\n",
       "<table border=\"1\" class=\"dataframe\">\n",
       "  <thead>\n",
       "    <tr style=\"text-align: right;\">\n",
       "      <th></th>\n",
       "      <th>SUPPLIER_ID</th>\n",
       "      <th>CURRENT_PINCODE_ID</th>\n",
       "      <th>EMPLOYEE_CODE_ID</th>\n",
       "      <th>BRANCH_ID</th>\n",
       "      <th>STATE_ID</th>\n",
       "      <th>MANUFACTURER_ID</th>\n",
       "    </tr>\n",
       "    <tr>\n",
       "      <th>UNIQUEID</th>\n",
       "      <th></th>\n",
       "      <th></th>\n",
       "      <th></th>\n",
       "      <th></th>\n",
       "      <th></th>\n",
       "      <th></th>\n",
       "    </tr>\n",
       "  </thead>\n",
       "  <tbody>\n",
       "    <tr>\n",
       "      <th>491948</th>\n",
       "      <td>18176</td>\n",
       "      <td>3249</td>\n",
       "      <td>580</td>\n",
       "      <td>17</td>\n",
       "      <td>17</td>\n",
       "      <td>86</td>\n",
       "    </tr>\n",
       "    <tr>\n",
       "      <th>556014</th>\n",
       "      <td>14698</td>\n",
       "      <td>1732</td>\n",
       "      <td>1774</td>\n",
       "      <td>2</td>\n",
       "      <td>4</td>\n",
       "      <td>45</td>\n",
       "    </tr>\n",
       "    <tr>\n",
       "      <th>576879</th>\n",
       "      <td>22417</td>\n",
       "      <td>43</td>\n",
       "      <td>323</td>\n",
       "      <td>160</td>\n",
       "      <td>1</td>\n",
       "      <td>51</td>\n",
       "    </tr>\n",
       "    <tr>\n",
       "      <th>445687</th>\n",
       "      <td>22045</td>\n",
       "      <td>1482</td>\n",
       "      <td>743</td>\n",
       "      <td>67</td>\n",
       "      <td>6</td>\n",
       "      <td>86</td>\n",
       "    </tr>\n",
       "    <tr>\n",
       "      <th>608058</th>\n",
       "      <td>16686</td>\n",
       "      <td>2593</td>\n",
       "      <td>3196</td>\n",
       "      <td>74</td>\n",
       "      <td>4</td>\n",
       "      <td>48</td>\n",
       "    </tr>\n",
       "    <tr>\n",
       "      <th>507972</th>\n",
       "      <td>18599</td>\n",
       "      <td>2186</td>\n",
       "      <td>2183</td>\n",
       "      <td>117</td>\n",
       "      <td>4</td>\n",
       "      <td>45</td>\n",
       "    </tr>\n",
       "    <tr>\n",
       "      <th>502722</th>\n",
       "      <td>18471</td>\n",
       "      <td>5706</td>\n",
       "      <td>1831</td>\n",
       "      <td>10</td>\n",
       "      <td>3</td>\n",
       "      <td>48</td>\n",
       "    </tr>\n",
       "    <tr>\n",
       "      <th>551722</th>\n",
       "      <td>21064</td>\n",
       "      <td>6478</td>\n",
       "      <td>776</td>\n",
       "      <td>165</td>\n",
       "      <td>5</td>\n",
       "      <td>86</td>\n",
       "    </tr>\n",
       "    <tr>\n",
       "      <th>491192</th>\n",
       "      <td>20438</td>\n",
       "      <td>3707</td>\n",
       "      <td>2739</td>\n",
       "      <td>136</td>\n",
       "      <td>8</td>\n",
       "      <td>51</td>\n",
       "    </tr>\n",
       "    <tr>\n",
       "      <th>545442</th>\n",
       "      <td>23643</td>\n",
       "      <td>3359</td>\n",
       "      <td>3130</td>\n",
       "      <td>138</td>\n",
       "      <td>9</td>\n",
       "      <td>86</td>\n",
       "    </tr>\n",
       "  </tbody>\n",
       "</table>\n",
       "</div>"
      ],
      "text/plain": [
       "          SUPPLIER_ID  CURRENT_PINCODE_ID  EMPLOYEE_CODE_ID  BRANCH_ID  \\\n",
       "UNIQUEID                                                                 \n",
       "491948          18176                3249               580         17   \n",
       "556014          14698                1732              1774          2   \n",
       "576879          22417                  43               323        160   \n",
       "445687          22045                1482               743         67   \n",
       "608058          16686                2593              3196         74   \n",
       "507972          18599                2186              2183        117   \n",
       "502722          18471                5706              1831         10   \n",
       "551722          21064                6478               776        165   \n",
       "491192          20438                3707              2739        136   \n",
       "545442          23643                3359              3130        138   \n",
       "\n",
       "          STATE_ID  MANUFACTURER_ID  \n",
       "UNIQUEID                             \n",
       "491948          17               86  \n",
       "556014           4               45  \n",
       "576879           1               51  \n",
       "445687           6               86  \n",
       "608058           4               48  \n",
       "507972           4               45  \n",
       "502722           3               48  \n",
       "551722           5               86  \n",
       "491192           8               51  \n",
       "545442           9               86  "
      ]
     },
     "execution_count": 12,
     "metadata": {},
     "output_type": "execute_result"
    }
   ],
   "source": [
    "loan_df[['SUPPLIER_ID', 'CURRENT_PINCODE_ID', 'EMPLOYEE_CODE_ID', 'BRANCH_ID', 'STATE_ID', 'MANUFACTURER_ID']].sample(10)"
   ]
  },
  {
   "cell_type": "code",
   "execution_count": 13,
   "metadata": {
    "id": "UWUy_JZVajv-"
   },
   "outputs": [],
   "source": [
    "loan_df = loan_df.drop(['SUPPLIER_ID', 'CURRENT_PINCODE_ID', 'EMPLOYEE_CODE_ID', 'BRANCH_ID'], axis=1)"
   ]
  },
  {
   "cell_type": "code",
   "execution_count": 14,
   "metadata": {
    "id": "7BWoLbkwajv_"
   },
   "outputs": [
    {
     "name": "stdout",
     "output_type": "stream",
     "text": [
      "86     109534\n",
      "45      56626\n",
      "51      27204\n",
      "48      16710\n",
      "49      10220\n",
      "120      9658\n",
      "67       2405\n",
      "145       778\n",
      "153        12\n",
      "152         6\n",
      "156         1\n",
      "Name: MANUFACTURER_ID, dtype: int64\n",
      "86     0.469792\n",
      "45     0.242870\n",
      "51     0.116678\n",
      "48     0.071669\n",
      "49     0.043834\n",
      "120    0.041423\n",
      "67     0.010315\n",
      "145    0.003337\n",
      "153    0.000051\n",
      "152    0.000026\n",
      "156    0.000004\n",
      "Name: MANUFACTURER_ID, dtype: float64\n"
     ]
    },
    {
     "data": {
      "image/png": "[encoded data removed]",
      "text/plain": [
       "<Figure size 640x480 with 1 Axes>"
      ]
     },
     "metadata": {},
     "output_type": "display_data"
    }
   ],
   "source": [
    "print(loan_df['MANUFACTURER_ID'].value_counts())\n",
    "print(loan_df['MANUFACTURER_ID'].value_counts(normalize=True))\n",
    "sns.countplot(x=\"MANUFACTURER_ID\", data=loan_df)\n",
    "plt.show()"
   ]
  },
  {
   "cell_type": "code",
   "execution_count": 15,
   "metadata": {
    "id": "dED89Wpiajv_"
   },
   "outputs": [
    {
     "data": {
      "text/plain": [
       "<pandas.core.groupby.generic.DataFrameGroupBy object at 0x7fa1e17d5810>"
      ]
     },
     "execution_count": 15,
     "metadata": {},
     "output_type": "execute_result"
    }
   ],
   "source": [
    "loan_df.groupby('MANUFACTURER_ID')"
   ]
  },
  {
   "cell_type": "code",
   "execution_count": 16,
   "metadata": {
    "id": "LS2iviPMajwA"
   },
   "outputs": [
    {
     "data": {
      "text/html": [
       "<div>\n",
       "<style scoped>\n",
       "    .dataframe tbody tr th:only-of-type {\n",
       "        vertical-align: middle;\n",
       "    }\n",
       "\n",
       "    .dataframe tbody tr th {\n",
       "        vertical-align: top;\n",
       "    }\n",
       "\n",
       "    .dataframe thead th {\n",
       "        text-align: right;\n",
       "    }\n",
       "</style>\n",
       "<table border=\"1\" class=\"dataframe\">\n",
       "  <thead>\n",
       "    <tr style=\"text-align: right;\">\n",
       "      <th></th>\n",
       "      <th>DISBURSED_AMOUNT</th>\n",
       "      <th>ASSET_COST</th>\n",
       "      <th>LTV</th>\n",
       "      <th>EMPLOYMENT_TYPE</th>\n",
       "      <th>STATE_ID</th>\n",
       "      <th>AADHAR_FLAG</th>\n",
       "      <th>PAN_FLAG</th>\n",
       "      <th>VOTERID_FLAG</th>\n",
       "      <th>DRIVING_FLAG</th>\n",
       "      <th>PASSPORT_FLAG</th>\n",
       "      <th>...</th>\n",
       "      <th>PRIMARY_INSTAL_AMT</th>\n",
       "      <th>SEC_INSTAL_AMT</th>\n",
       "      <th>NEW_ACCTS_IN_LAST_SIX_MONTHS</th>\n",
       "      <th>DELINQUENT_ACCTS_IN_LAST_SIX_MONTHS</th>\n",
       "      <th>NO_OF_INQUIRIES</th>\n",
       "      <th>LOAN_DEFAULT</th>\n",
       "      <th>AGE</th>\n",
       "      <th>DISBURSAL_MONTH</th>\n",
       "      <th>AVERAGE_ACCT_AGE_MONTHS</th>\n",
       "      <th>CREDIT_HISTORY_LENGTH_MONTHS</th>\n",
       "    </tr>\n",
       "    <tr>\n",
       "      <th>MANUFACTURER_ID</th>\n",
       "      <th></th>\n",
       "      <th></th>\n",
       "      <th></th>\n",
       "      <th></th>\n",
       "      <th></th>\n",
       "      <th></th>\n",
       "      <th></th>\n",
       "      <th></th>\n",
       "      <th></th>\n",
       "      <th></th>\n",
       "      <th></th>\n",
       "      <th></th>\n",
       "      <th></th>\n",
       "      <th></th>\n",
       "      <th></th>\n",
       "      <th></th>\n",
       "      <th></th>\n",
       "      <th></th>\n",
       "      <th></th>\n",
       "      <th></th>\n",
       "      <th></th>\n",
       "    </tr>\n",
       "  </thead>\n",
       "  <tbody>\n",
       "    <tr>\n",
       "      <th>45</th>\n",
       "      <td>105768</td>\n",
       "      <td>123865</td>\n",
       "      <td>95.00</td>\n",
       "      <td>Self employed</td>\n",
       "      <td>22</td>\n",
       "      <td>1</td>\n",
       "      <td>1</td>\n",
       "      <td>1</td>\n",
       "      <td>1</td>\n",
       "      <td>1</td>\n",
       "      <td>...</td>\n",
       "      <td>15019914</td>\n",
       "      <td>1814000</td>\n",
       "      <td>35</td>\n",
       "      <td>11</td>\n",
       "      <td>23</td>\n",
       "      <td>1</td>\n",
       "      <td>64</td>\n",
       "      <td>12</td>\n",
       "      <td>197</td>\n",
       "      <td>423</td>\n",
       "    </tr>\n",
       "    <tr>\n",
       "      <th>48</th>\n",
       "      <td>167447</td>\n",
       "      <td>219140</td>\n",
       "      <td>85.00</td>\n",
       "      <td>Self employed</td>\n",
       "      <td>20</td>\n",
       "      <td>1</td>\n",
       "      <td>1</td>\n",
       "      <td>1</td>\n",
       "      <td>1</td>\n",
       "      <td>1</td>\n",
       "      <td>...</td>\n",
       "      <td>25642806</td>\n",
       "      <td>4170901</td>\n",
       "      <td>20</td>\n",
       "      <td>7</td>\n",
       "      <td>13</td>\n",
       "      <td>1</td>\n",
       "      <td>63</td>\n",
       "      <td>12</td>\n",
       "      <td>192</td>\n",
       "      <td>306</td>\n",
       "    </tr>\n",
       "    <tr>\n",
       "      <th>49</th>\n",
       "      <td>332045</td>\n",
       "      <td>459625</td>\n",
       "      <td>89.95</td>\n",
       "      <td>Self employed</td>\n",
       "      <td>20</td>\n",
       "      <td>1</td>\n",
       "      <td>1</td>\n",
       "      <td>1</td>\n",
       "      <td>1</td>\n",
       "      <td>1</td>\n",
       "      <td>...</td>\n",
       "      <td>3750505</td>\n",
       "      <td>289051</td>\n",
       "      <td>12</td>\n",
       "      <td>7</td>\n",
       "      <td>19</td>\n",
       "      <td>1</td>\n",
       "      <td>63</td>\n",
       "      <td>12</td>\n",
       "      <td>195</td>\n",
       "      <td>355</td>\n",
       "    </tr>\n",
       "    <tr>\n",
       "      <th>51</th>\n",
       "      <td>191392</td>\n",
       "      <td>286350</td>\n",
       "      <td>90.00</td>\n",
       "      <td>Self employed</td>\n",
       "      <td>22</td>\n",
       "      <td>1</td>\n",
       "      <td>1</td>\n",
       "      <td>1</td>\n",
       "      <td>1</td>\n",
       "      <td>1</td>\n",
       "      <td>...</td>\n",
       "      <td>11305579</td>\n",
       "      <td>1589946</td>\n",
       "      <td>21</td>\n",
       "      <td>7</td>\n",
       "      <td>19</td>\n",
       "      <td>1</td>\n",
       "      <td>69</td>\n",
       "      <td>12</td>\n",
       "      <td>185</td>\n",
       "      <td>468</td>\n",
       "    </tr>\n",
       "    <tr>\n",
       "      <th>67</th>\n",
       "      <td>190887</td>\n",
       "      <td>260715</td>\n",
       "      <td>89.99</td>\n",
       "      <td>Self employed</td>\n",
       "      <td>21</td>\n",
       "      <td>1</td>\n",
       "      <td>1</td>\n",
       "      <td>1</td>\n",
       "      <td>1</td>\n",
       "      <td>1</td>\n",
       "      <td>...</td>\n",
       "      <td>2658172</td>\n",
       "      <td>239822</td>\n",
       "      <td>13</td>\n",
       "      <td>5</td>\n",
       "      <td>8</td>\n",
       "      <td>1</td>\n",
       "      <td>63</td>\n",
       "      <td>12</td>\n",
       "      <td>214</td>\n",
       "      <td>239</td>\n",
       "    </tr>\n",
       "    <tr>\n",
       "      <th>86</th>\n",
       "      <td>166972</td>\n",
       "      <td>237534</td>\n",
       "      <td>95.00</td>\n",
       "      <td>Self employed</td>\n",
       "      <td>22</td>\n",
       "      <td>1</td>\n",
       "      <td>1</td>\n",
       "      <td>1</td>\n",
       "      <td>1</td>\n",
       "      <td>1</td>\n",
       "      <td>...</td>\n",
       "      <td>20766553</td>\n",
       "      <td>3246710</td>\n",
       "      <td>28</td>\n",
       "      <td>20</td>\n",
       "      <td>36</td>\n",
       "      <td>1</td>\n",
       "      <td>64</td>\n",
       "      <td>12</td>\n",
       "      <td>369</td>\n",
       "      <td>449</td>\n",
       "    </tr>\n",
       "    <tr>\n",
       "      <th>120</th>\n",
       "      <td>117227</td>\n",
       "      <td>150113</td>\n",
       "      <td>90.00</td>\n",
       "      <td>Self employed</td>\n",
       "      <td>21</td>\n",
       "      <td>1</td>\n",
       "      <td>1</td>\n",
       "      <td>1</td>\n",
       "      <td>1</td>\n",
       "      <td>1</td>\n",
       "      <td>...</td>\n",
       "      <td>6274520</td>\n",
       "      <td>430379</td>\n",
       "      <td>17</td>\n",
       "      <td>12</td>\n",
       "      <td>11</td>\n",
       "      <td>1</td>\n",
       "      <td>63</td>\n",
       "      <td>12</td>\n",
       "      <td>182</td>\n",
       "      <td>306</td>\n",
       "    </tr>\n",
       "    <tr>\n",
       "      <th>145</th>\n",
       "      <td>96899</td>\n",
       "      <td>131000</td>\n",
       "      <td>84.94</td>\n",
       "      <td>Self employed</td>\n",
       "      <td>17</td>\n",
       "      <td>1</td>\n",
       "      <td>1</td>\n",
       "      <td>1</td>\n",
       "      <td>1</td>\n",
       "      <td>1</td>\n",
       "      <td>...</td>\n",
       "      <td>684178</td>\n",
       "      <td>20211</td>\n",
       "      <td>11</td>\n",
       "      <td>11</td>\n",
       "      <td>11</td>\n",
       "      <td>1</td>\n",
       "      <td>61</td>\n",
       "      <td>12</td>\n",
       "      <td>161</td>\n",
       "      <td>307</td>\n",
       "    </tr>\n",
       "    <tr>\n",
       "      <th>152</th>\n",
       "      <td>990572</td>\n",
       "      <td>1628992</td>\n",
       "      <td>84.79</td>\n",
       "      <td>Self employed</td>\n",
       "      <td>9</td>\n",
       "      <td>1</td>\n",
       "      <td>1</td>\n",
       "      <td>0</td>\n",
       "      <td>0</td>\n",
       "      <td>0</td>\n",
       "      <td>...</td>\n",
       "      <td>45117</td>\n",
       "      <td>0</td>\n",
       "      <td>3</td>\n",
       "      <td>0</td>\n",
       "      <td>2</td>\n",
       "      <td>0</td>\n",
       "      <td>44</td>\n",
       "      <td>10</td>\n",
       "      <td>70</td>\n",
       "      <td>122</td>\n",
       "    </tr>\n",
       "    <tr>\n",
       "      <th>153</th>\n",
       "      <td>98480</td>\n",
       "      <td>221779</td>\n",
       "      <td>57.32</td>\n",
       "      <td>Self employed</td>\n",
       "      <td>13</td>\n",
       "      <td>1</td>\n",
       "      <td>1</td>\n",
       "      <td>1</td>\n",
       "      <td>1</td>\n",
       "      <td>0</td>\n",
       "      <td>...</td>\n",
       "      <td>3300</td>\n",
       "      <td>0</td>\n",
       "      <td>1</td>\n",
       "      <td>0</td>\n",
       "      <td>0</td>\n",
       "      <td>1</td>\n",
       "      <td>58</td>\n",
       "      <td>12</td>\n",
       "      <td>57</td>\n",
       "      <td>57</td>\n",
       "    </tr>\n",
       "    <tr>\n",
       "      <th>156</th>\n",
       "      <td>987354</td>\n",
       "      <td>1328954</td>\n",
       "      <td>75.25</td>\n",
       "      <td>Self employed</td>\n",
       "      <td>4</td>\n",
       "      <td>1</td>\n",
       "      <td>0</td>\n",
       "      <td>0</td>\n",
       "      <td>0</td>\n",
       "      <td>0</td>\n",
       "      <td>...</td>\n",
       "      <td>23836</td>\n",
       "      <td>0</td>\n",
       "      <td>2</td>\n",
       "      <td>1</td>\n",
       "      <td>3</td>\n",
       "      <td>0</td>\n",
       "      <td>27</td>\n",
       "      <td>10</td>\n",
       "      <td>9</td>\n",
       "      <td>23</td>\n",
       "    </tr>\n",
       "  </tbody>\n",
       "</table>\n",
       "<p>11 rows × 34 columns</p>\n",
       "</div>"
      ],
      "text/plain": [
       "                 DISBURSED_AMOUNT  ASSET_COST    LTV EMPLOYMENT_TYPE  \\\n",
       "MANUFACTURER_ID                                                        \n",
       "45                         105768      123865  95.00   Self employed   \n",
       "48                         167447      219140  85.00   Self employed   \n",
       "49                         332045      459625  89.95   Self employed   \n",
       "51                         191392      286350  90.00   Self employed   \n",
       "67                         190887      260715  89.99   Self employed   \n",
       "86                         166972      237534  95.00   Self employed   \n",
       "120                        117227      150113  90.00   Self employed   \n",
       "145                         96899      131000  84.94   Self employed   \n",
       "152                        990572     1628992  84.79   Self employed   \n",
       "153                         98480      221779  57.32   Self employed   \n",
       "156                        987354     1328954  75.25   Self employed   \n",
       "\n",
       "                 STATE_ID  AADHAR_FLAG  PAN_FLAG  VOTERID_FLAG  DRIVING_FLAG  \\\n",
       "MANUFACTURER_ID                                                                \n",
       "45                     22            1         1             1             1   \n",
       "48                     20            1         1             1             1   \n",
       "49                     20            1         1             1             1   \n",
       "51                     22            1         1             1             1   \n",
       "67                     21            1         1             1             1   \n",
       "86                     22            1         1             1             1   \n",
       "120                    21            1         1             1             1   \n",
       "145                    17            1         1             1             1   \n",
       "152                     9            1         1             0             0   \n",
       "153                    13            1         1             1             1   \n",
       "156                     4            1         0             0             0   \n",
       "\n",
       "                 PASSPORT_FLAG  ...  PRIMARY_INSTAL_AMT SEC_INSTAL_AMT  \\\n",
       "MANUFACTURER_ID                 ...                                      \n",
       "45                           1  ...            15019914        1814000   \n",
       "48                           1  ...            25642806        4170901   \n",
       "49                           1  ...             3750505         289051   \n",
       "51                           1  ...            11305579        1589946   \n",
       "67                           1  ...             2658172         239822   \n",
       "86                           1  ...            20766553        3246710   \n",
       "120                          1  ...             6274520         430379   \n",
       "145                          1  ...              684178          20211   \n",
       "152                          0  ...               45117              0   \n",
       "153                          0  ...                3300              0   \n",
       "156                          0  ...               23836              0   \n",
       "\n",
       "                 NEW_ACCTS_IN_LAST_SIX_MONTHS  \\\n",
       "MANUFACTURER_ID                                 \n",
       "45                                         35   \n",
       "48                                         20   \n",
       "49                                         12   \n",
       "51                                         21   \n",
       "67                                         13   \n",
       "86                                         28   \n",
       "120                                        17   \n",
       "145                                        11   \n",
       "152                                         3   \n",
       "153                                         1   \n",
       "156                                         2   \n",
       "\n",
       "                 DELINQUENT_ACCTS_IN_LAST_SIX_MONTHS  NO_OF_INQUIRIES  \\\n",
       "MANUFACTURER_ID                                                         \n",
       "45                                                11               23   \n",
       "48                                                 7               13   \n",
       "49                                                 7               19   \n",
       "51                                                 7               19   \n",
       "67                                                 5                8   \n",
       "86                                                20               36   \n",
       "120                                               12               11   \n",
       "145                                               11               11   \n",
       "152                                                0                2   \n",
       "153                                                0                0   \n",
       "156                                                1                3   \n",
       "\n",
       "                 LOAN_DEFAULT  AGE  DISBURSAL_MONTH  AVERAGE_ACCT_AGE_MONTHS  \\\n",
       "MANUFACTURER_ID                                                                \n",
       "45                          1   64               12                      197   \n",
       "48                          1   63               12                      192   \n",
       "49                          1   63               12                      195   \n",
       "51                          1   69               12                      185   \n",
       "67                          1   63               12                      214   \n",
       "86                          1   64               12                      369   \n",
       "120                         1   63               12                      182   \n",
       "145                         1   61               12                      161   \n",
       "152                         0   44               10                       70   \n",
       "153                         1   58               12                       57   \n",
       "156                         0   27               10                        9   \n",
       "\n",
       "                 CREDIT_HISTORY_LENGTH_MONTHS  \n",
       "MANUFACTURER_ID                                \n",
       "45                                        423  \n",
       "48                                        306  \n",
       "49                                        355  \n",
       "51                                        468  \n",
       "67                                        239  \n",
       "86                                        449  \n",
       "120                                       306  \n",
       "145                                       307  \n",
       "152                                       122  \n",
       "153                                        57  \n",
       "156                                        23  \n",
       "\n",
       "[11 rows x 34 columns]"
      ]
     },
     "execution_count": 16,
     "metadata": {},
     "output_type": "execute_result"
    }
   ],
   "source": [
    "loan_df.groupby('MANUFACTURER_ID').max()"
   ]
  },
  {
   "cell_type": "markdown",
   "metadata": {
    "id": "kiD_Qcf3ajwA"
   },
   "source": [
    "- Nowsee the max value for each column for every ‘MANUFACTURER_ID’\n",
    "- Select subsets of the groups and perform operations on them\n"
   ]
  },
  {
   "cell_type": "code",
   "execution_count": 17,
   "metadata": {
    "id": "neNtWsXGajwA"
   },
   "outputs": [
    {
     "data": {
      "text/plain": [
       "MANUFACTURER_ID  LOAN_DEFAULT\n",
       "45               0               43687\n",
       "                 1               12939\n",
       "48               0               12156\n",
       "                 1                4554\n",
       "49               0                7984\n",
       "                 1                2236\n",
       "51               0               21547\n",
       "                 1                5657\n",
       "67               0                1882\n",
       "                 1                 523\n",
       "86               0               87124\n",
       "                 1               22410\n",
       "120              0                7526\n",
       "                 1                2132\n",
       "145              0                 622\n",
       "                 1                 156\n",
       "152              0                   6\n",
       "153              0                   8\n",
       "                 1                   4\n",
       "156              0                   1\n",
       "Name: LOAN_DEFAULT, dtype: int64"
      ]
     },
     "execution_count": 17,
     "metadata": {},
     "output_type": "execute_result"
    }
   ],
   "source": [
    "loan_df.groupby('MANUFACTURER_ID')['LOAN_DEFAULT'].value_counts()"
   ]
  },
  {
   "cell_type": "code",
   "execution_count": 18,
   "metadata": {
    "id": "brKzBMo9ajwB"
   },
   "outputs": [
    {
     "data": {
      "text/html": [
       "<div>\n",
       "<style scoped>\n",
       "    .dataframe tbody tr th:only-of-type {\n",
       "        vertical-align: middle;\n",
       "    }\n",
       "\n",
       "    .dataframe tbody tr th {\n",
       "        vertical-align: top;\n",
       "    }\n",
       "\n",
       "    .dataframe thead th {\n",
       "        text-align: right;\n",
       "    }\n",
       "</style>\n",
       "<table border=\"1\" class=\"dataframe\">\n",
       "  <thead>\n",
       "    <tr style=\"text-align: right;\">\n",
       "      <th>LOAN_DEFAULT</th>\n",
       "      <th>0</th>\n",
       "      <th>1</th>\n",
       "    </tr>\n",
       "    <tr>\n",
       "      <th>MANUFACTURER_ID</th>\n",
       "      <th></th>\n",
       "      <th></th>\n",
       "    </tr>\n",
       "  </thead>\n",
       "  <tbody>\n",
       "    <tr>\n",
       "      <th>45</th>\n",
       "      <td>43687.0</td>\n",
       "      <td>12939.0</td>\n",
       "    </tr>\n",
       "    <tr>\n",
       "      <th>48</th>\n",
       "      <td>12156.0</td>\n",
       "      <td>4554.0</td>\n",
       "    </tr>\n",
       "    <tr>\n",
       "      <th>49</th>\n",
       "      <td>7984.0</td>\n",
       "      <td>2236.0</td>\n",
       "    </tr>\n",
       "    <tr>\n",
       "      <th>51</th>\n",
       "      <td>21547.0</td>\n",
       "      <td>5657.0</td>\n",
       "    </tr>\n",
       "    <tr>\n",
       "      <th>67</th>\n",
       "      <td>1882.0</td>\n",
       "      <td>523.0</td>\n",
       "    </tr>\n",
       "    <tr>\n",
       "      <th>86</th>\n",
       "      <td>87124.0</td>\n",
       "      <td>22410.0</td>\n",
       "    </tr>\n",
       "    <tr>\n",
       "      <th>120</th>\n",
       "      <td>7526.0</td>\n",
       "      <td>2132.0</td>\n",
       "    </tr>\n",
       "    <tr>\n",
       "      <th>145</th>\n",
       "      <td>622.0</td>\n",
       "      <td>156.0</td>\n",
       "    </tr>\n",
       "    <tr>\n",
       "      <th>152</th>\n",
       "      <td>6.0</td>\n",
       "      <td>NaN</td>\n",
       "    </tr>\n",
       "    <tr>\n",
       "      <th>153</th>\n",
       "      <td>8.0</td>\n",
       "      <td>4.0</td>\n",
       "    </tr>\n",
       "    <tr>\n",
       "      <th>156</th>\n",
       "      <td>1.0</td>\n",
       "      <td>NaN</td>\n",
       "    </tr>\n",
       "  </tbody>\n",
       "</table>\n",
       "</div>"
      ],
      "text/plain": [
       "LOAN_DEFAULT           0        1\n",
       "MANUFACTURER_ID                  \n",
       "45               43687.0  12939.0\n",
       "48               12156.0   4554.0\n",
       "49                7984.0   2236.0\n",
       "51               21547.0   5657.0\n",
       "67                1882.0    523.0\n",
       "86               87124.0  22410.0\n",
       "120               7526.0   2132.0\n",
       "145                622.0    156.0\n",
       "152                  6.0      NaN\n",
       "153                  8.0      4.0\n",
       "156                  1.0      NaN"
      ]
     },
     "execution_count": 18,
     "metadata": {},
     "output_type": "execute_result"
    }
   ],
   "source": [
    "loan_df.groupby('MANUFACTURER_ID')['LOAN_DEFAULT'].value_counts().unstack(level=-1)"
   ]
  },
  {
   "cell_type": "code",
   "execution_count": 19,
   "metadata": {
    "id": "etXCwLR8ajwB"
   },
   "outputs": [
    {
     "data": {
      "text/html": [
       "<div>\n",
       "<style scoped>\n",
       "    .dataframe tbody tr th:only-of-type {\n",
       "        vertical-align: middle;\n",
       "    }\n",
       "\n",
       "    .dataframe tbody tr th {\n",
       "        vertical-align: top;\n",
       "    }\n",
       "\n",
       "    .dataframe thead th {\n",
       "        text-align: right;\n",
       "    }\n",
       "</style>\n",
       "<table border=\"1\" class=\"dataframe\">\n",
       "  <thead>\n",
       "    <tr style=\"text-align: right;\">\n",
       "      <th>LOAN_DEFAULT</th>\n",
       "      <th>0</th>\n",
       "      <th>1</th>\n",
       "    </tr>\n",
       "    <tr>\n",
       "      <th>MANUFACTURER_ID</th>\n",
       "      <th></th>\n",
       "      <th></th>\n",
       "    </tr>\n",
       "  </thead>\n",
       "  <tbody>\n",
       "    <tr>\n",
       "      <th>45</th>\n",
       "      <td>0.771501</td>\n",
       "      <td>0.228499</td>\n",
       "    </tr>\n",
       "    <tr>\n",
       "      <th>48</th>\n",
       "      <td>0.727469</td>\n",
       "      <td>0.272531</td>\n",
       "    </tr>\n",
       "    <tr>\n",
       "      <th>49</th>\n",
       "      <td>0.781213</td>\n",
       "      <td>0.218787</td>\n",
       "    </tr>\n",
       "    <tr>\n",
       "      <th>51</th>\n",
       "      <td>0.792053</td>\n",
       "      <td>0.207947</td>\n",
       "    </tr>\n",
       "    <tr>\n",
       "      <th>67</th>\n",
       "      <td>0.782536</td>\n",
       "      <td>0.217464</td>\n",
       "    </tr>\n",
       "    <tr>\n",
       "      <th>86</th>\n",
       "      <td>0.795406</td>\n",
       "      <td>0.204594</td>\n",
       "    </tr>\n",
       "    <tr>\n",
       "      <th>120</th>\n",
       "      <td>0.779250</td>\n",
       "      <td>0.220750</td>\n",
       "    </tr>\n",
       "    <tr>\n",
       "      <th>145</th>\n",
       "      <td>0.799486</td>\n",
       "      <td>0.200514</td>\n",
       "    </tr>\n",
       "    <tr>\n",
       "      <th>152</th>\n",
       "      <td>1.000000</td>\n",
       "      <td>NaN</td>\n",
       "    </tr>\n",
       "    <tr>\n",
       "      <th>153</th>\n",
       "      <td>0.666667</td>\n",
       "      <td>0.333333</td>\n",
       "    </tr>\n",
       "    <tr>\n",
       "      <th>156</th>\n",
       "      <td>1.000000</td>\n",
       "      <td>NaN</td>\n",
       "    </tr>\n",
       "  </tbody>\n",
       "</table>\n",
       "</div>"
      ],
      "text/plain": [
       "LOAN_DEFAULT            0         1\n",
       "MANUFACTURER_ID                    \n",
       "45               0.771501  0.228499\n",
       "48               0.727469  0.272531\n",
       "49               0.781213  0.218787\n",
       "51               0.792053  0.207947\n",
       "67               0.782536  0.217464\n",
       "86               0.795406  0.204594\n",
       "120              0.779250  0.220750\n",
       "145              0.799486  0.200514\n",
       "152              1.000000       NaN\n",
       "153              0.666667  0.333333\n",
       "156              1.000000       NaN"
      ]
     },
     "execution_count": 19,
     "metadata": {},
     "output_type": "execute_result"
    }
   ],
   "source": [
    "loan_df.groupby('MANUFACTURER_ID')['LOAN_DEFAULT'].value_counts(normalize=True).unstack(level=-1)"
   ]
  },
  {
   "cell_type": "markdown",
   "metadata": {
    "id": "i_uAcHpPajwB"
   },
   "source": [
    "- Loans for some manufacturers default at higher rates than others\n",
    "- Cars from manufacturer 48 defaulted most frequently. *With the exception of 153 which only had 12 total loans which is not enough data to give us solid insight"
   ]
  },
  {
   "cell_type": "code",
   "execution_count": 20,
   "metadata": {
    "id": "SvMlKt8DajwB"
   },
   "outputs": [
    {
     "data": {
      "image/png": "[encoded data removed]",
      "text/plain": [
       "<Figure size 616.361x500 with 1 Axes>"
      ]
     },
     "metadata": {},
     "output_type": "display_data"
    }
   ],
   "source": [
    "sns.catplot(data=loan_df,kind='count',x='MANUFACTURER_ID',hue='LOAN_DEFAULT')\n",
    "plt.show()"
   ]
  },
  {
   "cell_type": "markdown",
   "metadata": {
    "id": "arMvROFfajwC"
   },
   "source": [
    "Still have 4 categorical variables to investigate!\n",
    "- EMPLOYMENT_TYPE: Employment Type of the customer\n",
    "- PERFORM_CNS_SCORE_DESCRIPTION: Bureau score description \n",
    "- STATE_ID: State of disbursement \n",
    "- DISBURSAL_MONTH: The month in which the loan was disbursed"
   ]
  },
  {
   "cell_type": "markdown",
   "metadata": {
    "id": "a28Z2wKRajwC"
   },
   "source": [
    "### SOLUTION\n",
    "\n",
    "- Use print statements to make output readable "
   ]
  },
  {
   "cell_type": "code",
   "execution_count": 22,
   "metadata": {
    "id": "uDK6hzT4ajwC"
   },
   "outputs": [],
   "source": [
    "def explore_categorical(col_name):   \n",
    "    print(\"{0} Summary\".format(col_name))\n",
    "    print(\"\\n\")\n",
    "\n",
    "    print(\"{0} Counts\".format(col_name))\n",
    "    print(loan_df[col_name].value_counts())\n",
    "    print(\"\\n\")\n",
    "\n",
    "    print(\"{0} Ratio\".format(col_name))\n",
    "    print(loan_df[col_name].value_counts(normalize=True))\n",
    "    print(\"\\n\")\n",
    "\n",
    "    print(\"{0} Default Counts\".format(col_name))\n",
    "    print(loan_df.groupby(col_name)['LOAN_DEFAULT'].value_counts().unstack(level=-1))\n",
    "    print(\"\\n\")\n",
    "\n",
    "    print(\"{0} Default Ratio\".format(col_name))\n",
    "    print(loan_df.groupby(col_name)['LOAN_DEFAULT'].value_counts(normalize=True).unstack(level=-1))\n",
    "    print(\"\\n\")\n",
    "\n",
    "    sns.catplot(data=loan_df,kind='count',x=col_name,hue='LOAN_DEFAULT')\n",
    "    plt.show()"
   ]
  },
  {
   "cell_type": "code",
   "execution_count": 23,
   "metadata": {
    "id": "76fzhhVtajwC"
   },
   "outputs": [
    {
     "name": "stdout",
     "output_type": "stream",
     "text": [
      "DISBURSAL_MONTH Summary\n",
      "\n",
      "\n",
      "DISBURSAL_MONTH Counts\n",
      "10    84875\n",
      "8     56975\n",
      "9     54443\n",
      "11     6709\n",
      "6      5991\n",
      "12     5613\n",
      "3      5148\n",
      "4      4627\n",
      "7      4150\n",
      "5      2890\n",
      "1      1708\n",
      "2        25\n",
      "Name: DISBURSAL_MONTH, dtype: int64\n",
      "\n",
      "\n",
      "DISBURSAL_MONTH Ratio\n",
      "10    0.364030\n",
      "8     0.244366\n",
      "9     0.233507\n",
      "11    0.028775\n",
      "6     0.025695\n",
      "12    0.024074\n",
      "3     0.022080\n",
      "4     0.019845\n",
      "7     0.017799\n",
      "5     0.012395\n",
      "1     0.007326\n",
      "2     0.000107\n",
      "Name: DISBURSAL_MONTH, dtype: float64\n",
      "\n",
      "\n",
      "DISBURSAL_MONTH Default Counts\n",
      "LOAN_DEFAULT         0      1\n",
      "DISBURSAL_MONTH              \n",
      "1                 1316    392\n",
      "2                   23      2\n",
      "3                 4094   1054\n",
      "4                 3636    991\n",
      "5                 2279    611\n",
      "6                 4697   1294\n",
      "7                 3222    928\n",
      "8                44938  12037\n",
      "9                43910  10533\n",
      "10               64474  20401\n",
      "11                5484   1225\n",
      "12                4470   1143\n",
      "\n",
      "\n",
      "DISBURSAL_MONTH Default Ratio\n",
      "LOAN_DEFAULT            0         1\n",
      "DISBURSAL_MONTH                    \n",
      "1                0.770492  0.229508\n",
      "2                0.920000  0.080000\n",
      "3                0.795260  0.204740\n",
      "4                0.785822  0.214178\n",
      "5                0.788581  0.211419\n",
      "6                0.784009  0.215991\n",
      "7                0.776386  0.223614\n",
      "8                0.788732  0.211268\n",
      "9                0.806532  0.193468\n",
      "10               0.759635  0.240365\n",
      "11               0.817409  0.182591\n",
      "12               0.796366  0.203634\n",
      "\n",
      "\n"
     ]
    },
    {
     "data": {
      "image/png": "[encoded data removed]",
      "text/plain": [
       "<Figure size 616.361x500 with 1 Axes>"
      ]
     },
     "metadata": {},
     "output_type": "display_data"
    }
   ],
   "source": [
    "explore_categorical(\"DISBURSAL_MONTH\")"
   ]
  },
  {
   "cell_type": "markdown",
   "metadata": {
    "id": "g1PE2RSAajwC"
   },
   "source": [
    "- The vast majority of loans were disbursed in August, September and October \n",
    "- Loans disbursed in October had the highest rate of default ~24%"
   ]
  },
  {
   "cell_type": "markdown",
   "metadata": {
    "id": "qMq-LzCHajwD"
   },
   "source": [
    "- The first port of call for exploring continuous variables\n",
    "- The mean, median, IQR, standard deviation and min/max to get an idea of the range of data and how it is distributed"
   ]
  },
  {
   "cell_type": "code",
   "execution_count": 24,
   "metadata": {
    "id": "3faFf3bGajwD"
   },
   "outputs": [
    {
     "data": {
      "text/plain": [
       "count    233154.000000\n",
       "mean         33.902871\n",
       "std           9.829475\n",
       "min          17.000000\n",
       "25%          26.000000\n",
       "50%          32.000000\n",
       "75%          41.000000\n",
       "max          69.000000\n",
       "Name: AGE, dtype: float64"
      ]
     },
     "execution_count": 24,
     "metadata": {},
     "output_type": "execute_result"
    }
   ],
   "source": [
    "loan_df[\"AGE\"].describe()"
   ]
  },
  {
   "cell_type": "markdown",
   "metadata": {
    "id": "m5f1SBRlajwD"
   },
   "source": [
    "Notes\n",
    "- The mean is 33.9\n",
    "- The medium is 32 (medium is smaller, could the distribution be skewed a little)\n",
    "- Max is far bigger than 3rd Q, probably has a right tail\n",
    "- Min of 17 and Max of 69, these are reasonable so no erroneous outliers "
   ]
  },
  {
   "cell_type": "code",
   "execution_count": 25,
   "metadata": {
    "id": "ibP6zie1ajwD"
   },
   "outputs": [
    {
     "data": {
      "image/png": "[encoded data removed]",
      "text/plain": [
       "<Figure size 640x480 with 1 Axes>"
      ]
     },
     "metadata": {},
     "output_type": "display_data"
    }
   ],
   "source": [
    "sns.boxplot(x=\"AGE\", data=loan_df)\n",
    "plt.show()"
   ]
  },
  {
   "cell_type": "markdown",
   "metadata": {
    "id": "GE2Jpp5rajwD"
   },
   "source": [
    "Right tail\n",
    "\n"
   ]
  },
  {
   "cell_type": "code",
   "execution_count": 26,
   "metadata": {
    "id": "BoDUfpUzajwD"
   },
   "outputs": [
    {
     "name": "stderr",
     "output_type": "stream",
     "text": [
      "/var/folders/j5/7_nbp06d53dgtnljmfh9tfx00000gn/T/ipykernel_64920/2709744958.py:1: UserWarning: \n",
      "\n",
      "`distplot` is a deprecated function and will be removed in seaborn v0.14.0.\n",
      "\n",
      "Please adapt your code to use either `displot` (a figure-level function with\n",
      "similar flexibility) or `kdeplot` (an axes-level function for kernel density plots).\n",
      "\n",
      "For a guide to updating your code to use the new functions, please see\n",
      "https://gist.github.com/mwaskom/de44147ed2974457ad6372750bbe5751\n",
      "\n",
      "  sns.distplot(loan_df['AGE'], hist=False)\n"
     ]
    },
    {
     "data": {
      "image/png": "[encoded data removed]",
      "text/plain": [
       "<Figure size 640x480 with 1 Axes>"
      ]
     },
     "metadata": {},
     "output_type": "display_data"
    }
   ],
   "source": [
    "sns.distplot(loan_df['AGE'], hist=False)\n",
    "plt.show()"
   ]
  },
  {
   "cell_type": "code",
   "execution_count": 27,
   "metadata": {
    "id": "3iArPIcAajwE"
   },
   "outputs": [
    {
     "data": {
      "text/html": [
       "<div>\n",
       "<style scoped>\n",
       "    .dataframe tbody tr th:only-of-type {\n",
       "        vertical-align: middle;\n",
       "    }\n",
       "\n",
       "    .dataframe tbody tr th {\n",
       "        vertical-align: top;\n",
       "    }\n",
       "\n",
       "    .dataframe thead th {\n",
       "        text-align: right;\n",
       "    }\n",
       "</style>\n",
       "<table border=\"1\" class=\"dataframe\">\n",
       "  <thead>\n",
       "    <tr style=\"text-align: right;\">\n",
       "      <th></th>\n",
       "      <th>count</th>\n",
       "      <th>mean</th>\n",
       "      <th>std</th>\n",
       "      <th>min</th>\n",
       "      <th>25%</th>\n",
       "      <th>50%</th>\n",
       "      <th>75%</th>\n",
       "      <th>max</th>\n",
       "    </tr>\n",
       "    <tr>\n",
       "      <th>LOAN_DEFAULT</th>\n",
       "      <th></th>\n",
       "      <th></th>\n",
       "      <th></th>\n",
       "      <th></th>\n",
       "      <th></th>\n",
       "      <th></th>\n",
       "      <th></th>\n",
       "      <th></th>\n",
       "    </tr>\n",
       "  </thead>\n",
       "  <tbody>\n",
       "    <tr>\n",
       "      <th>0</th>\n",
       "      <td>182543.0</td>\n",
       "      <td>34.090713</td>\n",
       "      <td>9.860825</td>\n",
       "      <td>17.0</td>\n",
       "      <td>26.0</td>\n",
       "      <td>32.0</td>\n",
       "      <td>41.0</td>\n",
       "      <td>69.0</td>\n",
       "    </tr>\n",
       "    <tr>\n",
       "      <th>1</th>\n",
       "      <td>50611.0</td>\n",
       "      <td>33.225366</td>\n",
       "      <td>9.685441</td>\n",
       "      <td>17.0</td>\n",
       "      <td>25.0</td>\n",
       "      <td>31.0</td>\n",
       "      <td>40.0</td>\n",
       "      <td>64.0</td>\n",
       "    </tr>\n",
       "  </tbody>\n",
       "</table>\n",
       "</div>"
      ],
      "text/plain": [
       "                 count       mean       std   min   25%   50%   75%   max\n",
       "LOAN_DEFAULT                                                             \n",
       "0             182543.0  34.090713  9.860825  17.0  26.0  32.0  41.0  69.0\n",
       "1              50611.0  33.225366  9.685441  17.0  25.0  31.0  40.0  64.0"
      ]
     },
     "execution_count": 27,
     "metadata": {},
     "output_type": "execute_result"
    }
   ],
   "source": [
    "loan_df.groupby('LOAN_DEFAULT')['AGE'].describe()"
   ]
  },
  {
   "cell_type": "markdown",
   "metadata": {
    "id": "f2I-ZufcajwE"
   },
   "source": [
    "People who defaulted were generally younger. \n",
    "\n"
   ]
  },
  {
   "cell_type": "code",
   "execution_count": 28,
   "metadata": {
    "id": "cdxd6WKlajwE"
   },
   "outputs": [
    {
     "data": {
      "image/png": "[encoded data removed]",
      "text/plain": [
       "<Figure size 640x480 with 1 Axes>"
      ]
     },
     "metadata": {},
     "output_type": "display_data"
    }
   ],
   "source": [
    "sns.boxplot(x='AGE', y='LOAN_DEFAULT', data=loan_df, orient=\"h\")\n",
    "plt.show()"
   ]
  },
  {
   "cell_type": "markdown",
   "metadata": {
    "id": "9pfRnMcjajwE"
   },
   "source": [
    "The distribution of AGE within the group of people who defaulted was marginally younger"
   ]
  },
  {
   "cell_type": "markdown",
   "metadata": {
    "id": "bQEK3aP9ajwE"
   },
   "source": [
    "### SOLUTION"
   ]
  },
  {
   "cell_type": "code",
   "execution_count": 29,
   "metadata": {
    "id": "t7moOpwKajwF"
   },
   "outputs": [],
   "source": [
    "def explore_continuous(col_name):\n",
    "    #print statistical summary\n",
    "    print(\"{0} Summary\".format(col_name))\n",
    "    print(\"\\n\")\n",
    "    print(loan_df[col_name].describe())\n",
    "    print(\"\\n\")\n",
    "\n",
    "    #Look at boxplot\n",
    "    sns.boxplot(x=col_name, data=loan_df)\n",
    "    plt.show()\n",
    "\n",
    "    #Look at the distribution\n",
    "    sns.distplot(loan_df[col_name], hist=False)\n",
    "    plt.show()\n",
    "\n",
    "    #Now lets look deeper by grouping with the target variable \n",
    "    print(\"{0} Grouped Summary\".format(col_name))\n",
    "    print(\"\\n\")\n",
    "    print(loan_df.groupby('LOAN_DEFAULT')[col_name].describe())\n",
    "\n",
    "    #look at grouped boxplot \n",
    "    sns.boxplot(x=col_name, y='LOAN_DEFAULT', data=loan_df, orient=\"h\")\n",
    "    plt.show()"
   ]
  },
  {
   "cell_type": "code",
   "execution_count": 30,
   "metadata": {
    "id": "yZ39Au8sajwF"
   },
   "outputs": [
    {
     "name": "stdout",
     "output_type": "stream",
     "text": [
      "DISBURSED_AMOUNT Summary\n",
      "\n",
      "\n",
      "count    233154.000000\n",
      "mean      54356.993528\n",
      "std       12971.314171\n",
      "min       13320.000000\n",
      "25%       47145.000000\n",
      "50%       53803.000000\n",
      "75%       60413.000000\n",
      "max      990572.000000\n",
      "Name: DISBURSED_AMOUNT, dtype: float64\n",
      "\n",
      "\n"
     ]
    },
    {
     "data": {
      "image/png": "[encoded data removed]",
      "text/plain": [
       "<Figure size 640x480 with 1 Axes>"
      ]
     },
     "metadata": {},
     "output_type": "display_data"
    },
    {
     "name": "stderr",
     "output_type": "stream",
     "text": [
      "/var/folders/j5/7_nbp06d53dgtnljmfh9tfx00000gn/T/ipykernel_64920/115762789.py:13: UserWarning: \n",
      "\n",
      "`distplot` is a deprecated function and will be removed in seaborn v0.14.0.\n",
      "\n",
      "Please adapt your code to use either `displot` (a figure-level function with\n",
      "similar flexibility) or `kdeplot` (an axes-level function for kernel density plots).\n",
      "\n",
      "For a guide to updating your code to use the new functions, please see\n",
      "https://gist.github.com/mwaskom/de44147ed2974457ad6372750bbe5751\n",
      "\n",
      "  sns.distplot(loan_df[col_name], hist=False)\n"
     ]
    },
    {
     "data": {
      "image/png": "[encoded data removed]",
      "text/plain": [
       "<Figure size 640x480 with 1 Axes>"
      ]
     },
     "metadata": {},
     "output_type": "display_data"
    },
    {
     "name": "stdout",
     "output_type": "stream",
     "text": [
      "DISBURSED_AMOUNT Grouped Summary\n",
      "\n",
      "\n",
      "                 count          mean           std      min      25%      50%  \\\n",
      "LOAN_DEFAULT                                                                    \n",
      "0             182543.0  53826.471111  13140.699007  13320.0  46369.0  53303.0   \n",
      "1              50611.0  56270.473869  12150.255527  13369.0  49303.0  55459.0   \n",
      "\n",
      "                  75%       max  \n",
      "LOAN_DEFAULT                     \n",
      "0             59947.0  990572.0  \n",
      "1             61947.0  191392.0  \n"
     ]
    },
    {
     "data": {
      "image/png": "[encoded data removed]",
      "text/plain": [
       "<Figure size 640x480 with 1 Axes>"
      ]
     },
     "metadata": {},
     "output_type": "display_data"
    }
   ],
   "source": [
    "explore_continuous('DISBURSED_AMOUNT')"
   ]
  },
  {
   "cell_type": "markdown",
   "metadata": {
    "id": "TQHXR0MvajwF"
   },
   "source": [
    "Things to note \n",
    "\n",
    "- There are some huge outliers here\n",
    "- Generally, the disbursed amount for defaulted loans was larger, or at least the distribution ranges over larger values "
   ]
  },
  {
   "cell_type": "markdown",
   "metadata": {
    "id": "y3fLB9UIajwF"
   },
   "source": [
    "## Lesson 5 - Binary Variables & Conclusion\n",
    "\n",
    "You may have noticed that our data contains several columns with the underscore _FLAG\n",
    "\n",
    "- MOBILENO_AVL_FLAG: if Mobile no. was shared by the customer then flagged as 1\n",
    "- AADHAR_FLAG: if aadhar was shared by the customer then flagged as 1\n",
    "- PAN_FLAG: if pan was shared by the customer then flagged as 1\n",
    "- VOTERID_FLAG: if voter id was shared by the customer then flagged as 1\n",
    "- DRIVING_FLAG: if DL was shared by the customer then flagged as 1\n",
    "- PASSPORT_FLAG: if passport was shared by the customer then flagged as 1\n",
    "\n",
    "These are binary or boolean fields where a 1 means that some piece of personal information was provided by the customer and 0 means it was not.\n",
    "We already dropped the MOBILENO_AVL_FLAG because the value was the same for all rows. \n",
    "\n",
    "Essentially these columns can be considered as categoricals so we can use our explore_categorical function to look at them!\n",
    "\n",
    "Let's have a look at 'AADHAR_FLAG'. An AADHAR number is a 12 digit personal id number provided to residents of India by the government"
   ]
  },
  {
   "cell_type": "code",
   "execution_count": null,
   "metadata": {
    "id": "rXTqb2FIajwF"
   },
   "outputs": [],
   "source": [
    "explore_categorical('AADHAR_FLAG')"
   ]
  },
  {
   "cell_type": "markdown",
   "metadata": {
    "id": "RmzdFZi_ajwF"
   },
   "source": [
    "Looks like people who didn't provide their AADHAR number defaulted more frequently at 25.6%!"
   ]
  },
  {
   "cell_type": "markdown",
   "metadata": {
    "id": "8Snt7VjFajwF"
   },
   "source": [
    "## Conclusion\n",
    "\n",
    "- In this chapter, we have demonstrated some techniques to carry out basic exploratory analysis \n",
    "- This is only scratching the surface\n",
    "- Specific techniques used for exploration may be dependent on both the data and its context\n",
    "- Spend some time now exploring the data further\n",
    "- Combine these techniques with your own intuition to formulate some hypothesis as to why a particular person might default on their loan\n",
    "- As always if you have made changes to the data you wish to carry forward, remember to save it!"
   ]
  },
  {
   "cell_type": "code",
   "execution_count": null,
   "metadata": {
    "id": "JOXw5Jn5ajwG"
   },
   "outputs": [],
   "source": [
    "loan_df.to_csv('../data/vehicle_loans_eda.csv')"
   ]
  }
 ],
 "metadata": {
  "colab": {
   "name": "chapter_3_solution.ipynb",
   "provenance": []
  },
  "kernelspec": {
   "display_name": "Python 3 (ipykernel)",
   "language": "python",
   "name": "python3"
  },
  "language_info": {
   "codemirror_mode": {
    "name": "ipython",
    "version": 3
   },
   "file_extension": ".py",
   "mimetype": "text/x-python",
   "name": "python",
   "nbconvert_exporter": "python",
   "pygments_lexer": "ipython3",
   "version": "3.10.9"
  }
 },
 "nbformat": 4,
 "nbformat_minor": 4
}
